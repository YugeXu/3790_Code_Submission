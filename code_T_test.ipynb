{
 "cells": [
  {
   "cell_type": "markdown",
   "metadata": {},
   "source": [
    "## Math 3790 W01\n",
    "## Yuge Xu 1194170\n",
    "## NLP Method: T-test"
   ]
  },
  {
   "cell_type": "code",
   "execution_count": 1,
   "metadata": {},
   "outputs": [],
   "source": [
    "import nltk\n",
    "from nltk.tokenize import word_tokenize, sent_tokenize\n",
    "from nltk.probability import FreqDist\n",
    "from nltk import bigrams\n",
    "import pandas as pd\n",
    "import numpy as np\n",
    "from nltk import pos_tag\n",
    "from nltk.corpus import stopwords\n",
    "from nltk.tokenize import word_tokenize"
   ]
  },
  {
   "cell_type": "code",
   "execution_count": 2,
   "metadata": {},
   "outputs": [
    {
     "name": "stdout",
     "output_type": "stream",
     "text": [
      "len(sentences)= 37715 \n",
      "len(words) = 755386\n"
     ]
    }
   ],
   "source": [
    "# Load Data\n",
    "with open(\"Corpus_Country_History.txt\", \"r\", encoding=\"utf-8\") as file:\n",
    "    text = file.read()\n",
    "text = text.replace('\\n', ' ')\n",
    "words = word_tokenize(text)\n",
    "words = [word for word in words if word.isalpha()]\n",
    "sentences = sent_tokenize(text)\n",
    "print(f\"len(sentences)= {len(sentences)} \")\n",
    "print(f\"len(words) = {len(words)}\")\n",
    "\n",
    "bigram_list = list(bigrams(words))\n",
    "# filter the bigram lists by cleaning some stop words\n",
    "stop_words = set(stopwords.words('english'))\n",
    "bigram_list = [bigram for bigram in bigram_list if not any(word.lower() in stop_words for word in bigram)]\n",
    "\n"
   ]
  },
  {
   "cell_type": "code",
   "execution_count": 3,
   "metadata": {},
   "outputs": [],
   "source": [
    "# find target bigram, and count how many times the target bigram occurrs\n",
    "def find_bigram(bigram_list, target_bigram):\n",
    "    count = 0\n",
    "    # Converts all the words in the target binary to lowercase\n",
    "    target_bigram_lower = tuple(word.lower() for word in target_bigram)\n",
    "    for bigram in bigram_list:\n",
    "        bigram_lower = tuple(word.lower() for word in bigram)\n",
    "        if bigram_lower == target_bigram_lower:\n",
    "            count += 1\n",
    "    return count\n",
    "\n",
    "# count the number of times a keyword appears in whole bigram lists\n",
    "def count_keyword_in_bigrams(keyword, bigram_list):\n",
    "    count = 0\n",
    "    keyword = keyword.lower()  \n",
    "    for bigram in bigram_list:\n",
    "        bigram = tuple(word.lower() for word in bigram)\n",
    "        if keyword in bigram:\n",
    "            count += 1\n",
    "    return count\n",
    "# define a method for calculating t-score\n",
    "def calculate_t_score(x_bar,mu,S_square,N):\n",
    "    return (x_bar - mu) / np.sqrt(S_square / N)"
   ]
  },
  {
   "cell_type": "code",
   "execution_count": 4,
   "metadata": {},
   "outputs": [],
   "source": [
    "def get_t_score_report(w1,w2):\n",
    "    # w1 = 'world'\n",
    "    # w2 = 'inequality'\n",
    "    target_bigram = (w1, w2)\n",
    "    count = find_bigram(bigram_list, target_bigram)\n",
    "    num_of_bigram_contains_w1_w2 = count\n",
    "    print(f\"The bigram '{target_bigram}' appears {count} times in the bigram list.\")\n",
    "    num_of_bigram_contains_w1 = count_keyword_in_bigrams(w1, bigram_list)\n",
    "    num_of_bigram_contains_w2 = count_keyword_in_bigrams(w2, bigram_list)\n",
    "    total_num_of_bigram = len(words)-1\n",
    "    print(f\"num_of_bigram_contains_w1 {w1} =  {num_of_bigram_contains_w1} \")\n",
    "    print(f\"num_of_bigram_contains_w2 {w2} = {num_of_bigram_contains_w2} \")\n",
    "    print(f\"num_of_bigram_contains_w1_w2 {target_bigram} = {num_of_bigram_contains_w1_w2} \")\n",
    "    print(f\"total_num_of_bigram =  {total_num_of_bigram} \")\n",
    "\n",
    "    probability_w1 = num_of_bigram_contains_w1/total_num_of_bigram\n",
    "    probability_w2 = num_of_bigram_contains_w2/total_num_of_bigram\n",
    "    print(f\"probability_w1 {w1} = {probability_w1}\")\n",
    "    print(f\"probability_w2 {w2} = {probability_w2}\")\n",
    "\n",
    "    h0_probability_w1_w2 = probability_w1*probability_w2 # null hypothesis, independent probability\n",
    "    print(f\"null hypothesis h0 probability = {h0_probability_w1_w2}\")\n",
    "    x_bar = num_of_bigram_contains_w1_w2/total_num_of_bigram\n",
    "    print(f\"sample mean = {x_bar}\")\n",
    "    mu = h0_probability_w1_w2\n",
    "    s_square = num_of_bigram_contains_w1_w2/total_num_of_bigram\n",
    "    t_score = calculate_t_score(x_bar,mu,s_square,total_num_of_bigram)\n",
    "    print(f\"t-score for bigram {target_bigram} = {t_score}\")\n"
   ]
  },
  {
   "cell_type": "code",
   "execution_count": 5,
   "metadata": {},
   "outputs": [
    {
     "name": "stdout",
     "output_type": "stream",
     "text": [
      "The bigram '('world', 'war')' appears 166 times in the bigram list.\n",
      "num_of_bigram_contains_w1 world =  812 \n",
      "num_of_bigram_contains_w2 war = 1316 \n",
      "num_of_bigram_contains_w1_w2 ('world', 'war') = 166 \n",
      "total_num_of_bigram =  755385 \n",
      "probability_w1 world = 0.0010749485361769165\n",
      "probability_w2 war = 0.0017421579724246575\n",
      "null hypothesis h0 probability = 1.8727301622468305e-06\n",
      "sample mean = 0.00021975548892286714\n",
      "t-score for bigram ('world', 'war') = 12.774301968440861\n"
     ]
    }
   ],
   "source": [
    "get_t_score_report('world','war')"
   ]
  },
  {
   "cell_type": "code",
   "execution_count": 6,
   "metadata": {},
   "outputs": [
    {
     "name": "stdout",
     "output_type": "stream",
     "text": [
      "The bigram '('world', 'movement')' appears 1 times in the bigram list.\n",
      "num_of_bigram_contains_w1 world =  812 \n",
      "num_of_bigram_contains_w2 movement = 285 \n",
      "num_of_bigram_contains_w1_w2 ('world', 'movement') = 1 \n",
      "total_num_of_bigram =  755385 \n",
      "probability_w1 world = 0.0010749485361769165\n",
      "probability_w2 movement = 0.0003772910502591394\n",
      "null hypothesis h0 probability = 4.055684621887133e-07\n",
      "sample mean = 1.323828246523296e-06\n",
      "t-score for bigram ('world', 'movement') = 0.6936396671895787\n"
     ]
    }
   ],
   "source": [
    "get_t_score_report('world','movement')"
   ]
  },
  {
   "cell_type": "code",
   "execution_count": 7,
   "metadata": {},
   "outputs": [
    {
     "name": "stdout",
     "output_type": "stream",
     "text": [
      "The bigram '('world', 'home')' appears 1 times in the bigram list.\n",
      "num_of_bigram_contains_w1 world =  812 \n",
      "num_of_bigram_contains_w2 home = 185 \n",
      "num_of_bigram_contains_w1_w2 ('world', 'home') = 1 \n",
      "total_num_of_bigram =  755385 \n",
      "probability_w1 world = 0.0010749485361769165\n",
      "probability_w2 home = 0.00024490822560680977\n",
      "null hypothesis h0 probability = 2.632637386137262e-07\n",
      "sample mean = 1.323828246523296e-06\n",
      "t-score for bigram ('world', 'home') = 0.8011345208072704\n"
     ]
    }
   ],
   "source": [
    "get_t_score_report('world','home')"
   ]
  },
  {
   "cell_type": "code",
   "execution_count": 8,
   "metadata": {},
   "outputs": [
    {
     "name": "stdout",
     "output_type": "stream",
     "text": [
      "The bigram '('world', 'bank')' appears 9 times in the bigram list.\n",
      "num_of_bigram_contains_w1 world =  812 \n",
      "num_of_bigram_contains_w2 bank = 142 \n",
      "num_of_bigram_contains_w1_w2 ('world', 'bank') = 9 \n",
      "total_num_of_bigram =  755385 \n",
      "probability_w1 world = 0.0010749485361769165\n",
      "probability_w2 bank = 0.00018798361100630804\n",
      "null hypothesis h0 probability = 2.0207270747648172e-07\n",
      "sample mean = 1.1914454218709665e-05\n",
      "t-score for bigram ('world', 'bank') = 2.9491191026209593\n"
     ]
    }
   ],
   "source": [
    "get_t_score_report('world','bank')"
   ]
  },
  {
   "cell_type": "markdown",
   "metadata": {},
   "source": [
    "|t-score|collocation|\n",
    "|---|---|\n",
    "|0.6936396671895787|(world,movement)|\n",
    "|0.8011345208072704|(world,home)|\n",
    "|2.061081675157631|(world,population)|\n",
    "|2.1134815818236437|(world,market)|\n",
    "|2.1711692115212418|(world,inequality)|\n",
    "|2.9491191026209593|(world,bank)|\n",
    "|12.77430211379272|(world,war)|"
   ]
  }
 ],
 "metadata": {
  "kernelspec": {
   "display_name": "base",
   "language": "python",
   "name": "python3"
  },
  "language_info": {
   "codemirror_mode": {
    "name": "ipython",
    "version": 3
   },
   "file_extension": ".py",
   "mimetype": "text/x-python",
   "name": "python",
   "nbconvert_exporter": "python",
   "pygments_lexer": "ipython3",
   "version": "3.11.7"
  }
 },
 "nbformat": 4,
 "nbformat_minor": 2
}
