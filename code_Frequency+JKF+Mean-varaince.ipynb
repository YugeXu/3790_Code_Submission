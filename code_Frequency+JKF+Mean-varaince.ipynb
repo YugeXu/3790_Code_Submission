{
 "cells": [
  {
   "cell_type": "markdown",
   "metadata": {},
   "source": [
    "## Math 3790 W01\n",
    "## Yuge Xu 1194170\n",
    "## NLP Method: Frequency, JKF, Mean-Variance"
   ]
  },
  {
   "cell_type": "markdown",
   "metadata": {},
   "source": [
    "## Import Libraries"
   ]
  },
  {
   "cell_type": "code",
   "execution_count": 16,
   "metadata": {},
   "outputs": [],
   "source": [
    "import nltk\n",
    "from nltk.tokenize import word_tokenize, sent_tokenize\n",
    "from nltk.probability import FreqDist\n",
    "from nltk import bigrams\n",
    "import pandas as pd\n",
    "import numpy as np\n",
    "from nltk import pos_tag\n",
    "from collections import Counter\n"
   ]
  },
  {
   "cell_type": "markdown",
   "metadata": {},
   "source": [
    "## Load Data"
   ]
  },
  {
   "cell_type": "code",
   "execution_count": 17,
   "metadata": {},
   "outputs": [],
   "source": [
    "# read txt files\n",
    "with open(\"Corpus_Country_History.txt\", \"r\", encoding=\"utf-8\") as file:\n",
    "    text = file.read()\n",
    "# If a sentence has a break line inside it, we need to clear the line  in this way\n",
    "text = text.replace('\\n', ' ')\n"
   ]
  },
  {
   "cell_type": "markdown",
   "metadata": {},
   "source": [
    "## Data Preprocessing Tokenization"
   ]
  },
  {
   "cell_type": "code",
   "execution_count": 18,
   "metadata": {},
   "outputs": [
    {
     "name": "stdout",
     "output_type": "stream",
     "text": [
      "the corpus has total 37715 sentences\n",
      "the corpus has total 755386 words\n"
     ]
    }
   ],
   "source": [
    "# separate words\n",
    "words = word_tokenize(text)\n",
    "# filter out punctuation marks\n",
    "words = [word for word in words if word.isalpha()]\n",
    "# separate sentences\n",
    "sentences = sent_tokenize(text)\n",
    "print(f\"the corpus has total {len(sentences)} sentences\")\n",
    "print(f\"the corpus has total {len(words)} words\")"
   ]
  },
  {
   "cell_type": "markdown",
   "metadata": {},
   "source": [
    "## Collocation Analysis Method 1. Frequency-Based Method"
   ]
  },
  {
   "cell_type": "markdown",
   "metadata": {},
   "source": [
    "## Count the frequency of words & Count the frequency of bigrams"
   ]
  },
  {
   "cell_type": "code",
   "execution_count": 19,
   "metadata": {},
   "outputs": [
    {
     "name": "stdout",
     "output_type": "stream",
     "text": [
      "See the top 10 most common words [('the', 53110), ('of', 30031), ('and', 20646), ('to', 20394), ('in', 17030), ('a', 13949), ('was', 9074), ('that', 7986), ('for', 5810), ('The', 5251)]\n",
      "\n",
      "the length of bigramlist = 755385\n",
      "\n",
      "See the top 10 most common bigrams [(('of', 'the'), 8827), (('in', 'the'), 4855), (('to', 'the'), 3009), (('and', 'the'), 1875), (('on', 'the'), 1677), (('by', 'the'), 1392), (('that', 'the'), 1321), (('for', 'the'), 1314), (('with', 'the'), 1226), (('from', 'the'), 1121)]\n",
      "\n",
      "find top 10 most frequent bigrams that contains 'world' with their occurrence number = [(('the', 'world'), 373), (('World', 'War'), 164), (('New', 'World'), 55), (('the', 'World'), 46), (('world', 'and'), 36), (('Second', 'World'), 32), (('a', 'world'), 30), (('First', 'World'), 30), (('world', 'of'), 29), (('world', 'The'), 20)]\n"
     ]
    }
   ],
   "source": [
    "freq_dist = FreqDist(words)\n",
    "most_common_words = freq_dist.most_common(10)\n",
    "print(f\"See the top 10 most common words {most_common_words}\")\n",
    "print()\n",
    "#create a bigram list to store all the bigrams\n",
    "bigram_list = list(bigrams(words))\n",
    "print(f\"the length of bigramlist = {len(bigram_list)}\")\n",
    "print()\n",
    "#Use FreqDist to count the occurrence of bigrams\n",
    "freq_dist = FreqDist(bigram_list)\n",
    "most_common_bigrams = freq_dist.most_common(10)\n",
    "print(f\"See the top 10 most common bigrams {most_common_bigrams}\")\n",
    "print()\n",
    "# Check those bigrams that contains \"world\",since our corpus is doing something related to world history\n",
    "bigrams_contains_world = [bigram for bigram in bigram_list if \"world\" in [word.lower() for word in bigram]]\n",
    "bigram_counter = Counter(bigrams_contains_world)\n",
    "# Find the top 10 most frequent bigrams that contains \"world\"\n",
    "top_10_bigrams = bigram_counter.most_common(10)\n",
    "print(f\"find top 10 most frequent bigrams that contains 'world' with their occurrence number = {top_10_bigrams}\")\n"
   ]
  },
  {
   "cell_type": "markdown",
   "metadata": {},
   "source": [
    "## Collocation Analysis Method 2. JKF "
   ]
  },
  {
   "cell_type": "code",
   "execution_count": 20,
   "metadata": {},
   "outputs": [
    {
     "name": "stdout",
     "output_type": "stream",
     "text": [
      "See the top 10 most frequently tagged words = [(('the', 'DT'), 53110), (('of', 'IN'), 30031), (('and', 'CC'), 20646), (('to', 'TO'), 20394), (('in', 'IN'), 17030), (('a', 'DT'), 13949), (('was', 'VBD'), 9074), (('for', 'IN'), 5810), (('that', 'IN'), 5438), (('The', 'DT'), 5251)]\n",
      "We matched 37602 bigrams where the first word in bigram is adj, the second word in bigram is noun \n",
      "('nineteenth', 'century'): 170\n",
      "('same', 'time'): 160\n",
      "('twentieth', 'century'): 104\n",
      "('other', 'hand'): 80\n",
      "('white', 'man'): 66\n",
      "('economic', 'growth'): 62\n",
      "('white', 'men'): 56\n",
      "('civil', 'rights'): 49\n",
      "('first', 'time'): 47\n",
      "('gold', 'standard'): 43\n",
      "\n",
      "Get the top 10 most frequent nouns = [('people', 1505), ('war', 1192), ('time', 1168), ('New', 1133), ('King', 1001), ('men', 1000), ('government', 964), ('England', 960), ('years', 871), ('country', 781)]\n"
     ]
    }
   ],
   "source": [
    "# tag each word in corpus\n",
    "pos_tags = pos_tag(words)\n",
    "freq_dist = FreqDist(pos_tags)\n",
    "# See the top 10 most frequently tagged words\n",
    "most_common_words = freq_dist.most_common(10)\n",
    "print(f\"See the top 10 most frequently tagged words = {most_common_words}\")\n",
    "\n",
    "# Then use the part-of-speech tag to filter for our desired bigrams\n",
    "bigram_list = list(bigrams(pos_tags))\n",
    "# For example, Filter out bigrams where the first word is an adjective (JJ) and the second word is a noun (NN*)\n",
    "JJ_NN_bigrams = [(word1, word2) for (word1, tag1), (word2, tag2) in bigram_list if tag1.startswith('JJ') and tag2.startswith('NN') and len(word1) > 1 and len(word2) > 1]\n",
    "print(f\"We matched {len(JJ_NN_bigrams)} bigrams where the first word in bigram is adj, the second word in bigram is noun \")\n",
    "\n",
    "# See the top 10 most frequently appeared bigrams that composed of a adj word and a noun\n",
    "freq_dist = FreqDist(JJ_NN_bigrams)\n",
    "for bigram, frequency in freq_dist.most_common(10):\n",
    "    print(f\"{bigram}: {frequency}\")\n",
    "print()\n",
    "## Find the top 10 most frequent nouns\n",
    "# Extract noun word\n",
    "nouns = [word for word, pos in pos_tags if pos.startswith('NN') and len(word) > 1]\n",
    "# Count their frequency\n",
    "noun_freq = Counter(nouns)\n",
    "top_nouns = noun_freq.most_common(10)\n",
    "print(f\"Get the top 10 most frequent nouns = {top_nouns}\")"
   ]
  },
  {
   "cell_type": "markdown",
   "metadata": {},
   "source": [
    "## Collocation Analysis Method 3.Mean Variance Method"
   ]
  },
  {
   "cell_type": "markdown",
   "metadata": {},
   "source": [
    "## T1 = world, T2 = government, Find its mean value, varaince value"
   ]
  },
  {
   "cell_type": "code",
   "execution_count": 21,
   "metadata": {},
   "outputs": [
    {
     "name": "stdout",
     "output_type": "stream",
     "text": [
      "It then went on to list grievances against the king, “a history of repeated injuries and usurpations, all having in direct object the establishment of an absolute Tyranny over these States.” The list accused the king of dissolving colonial governments, controlling judges, sending “swarms of Officers to harass our people,” sending in armies of occupation, cutting off colonial trade  \fwith other parts of the world, taxing the colonists without their consent, and waging war against them, “transporting large Armies of foreign Mercenaries to compleat the works of death, desolation and tyranny.” All this, the language of popular control over governments, the right of rebellion and revolution, indignation at political tyranny, economic burdens, and military attacks, was language well suited to unite large numbers of colonists, and persuade even those who had grievances against one another to turn against England.\n",
      "\n",
      "This was a larger base of support for government than anywhere in the world at the end of the eighteenth century.\n",
      "\n",
      "A Moravian minister who lived among them described Indian society: Thus has been maintained for ages, without convulsions and without civil discords, this traditional government, of which the world, perhaps, does not offer another example; a government in which there are no positive laws, but only long established habits and customs, no code of jurisprudence, but the experience of former times, no magistrates, but advisers, to whom the people nevertheless, pay a willing and implicit obedience, in which age confers rank, wisdom gives power, and moral goodness secures title to universal respect.\n",
      "\n",
      "And so, by these Providences of God—and the phrase is the government’s, not mine—we are a World Power.\n",
      "\n",
      "And yet, did the governments conducting this war—England, the United States, the Soviet Union—represent something significantly different, so that their victory would be a blow to imperialism, racism, totalitarianism, militarism, in the world?\n",
      "\n",
      "In August 1941, Roosevelt and Churchill met off the coast of Newfoundland and released to the world the Atlantic Charter, setting forth noble goals for the postwar world, saying their countries “seek no aggrandizement, territorial or other,” and that they respected “the right of all peoples to choose the form of government under which they will live.” The Charter was celebrated as declaring the right of nations to self-determination.\n",
      "\n",
      "A Senate report, “Economic Concentration and World War II,” noted that the government contracted for scientific research in industry during the war, and although two thousand corporations were involved, of $1 billion spent, $400 million went to ten large corporations.\n",
      "\n",
      "), if not for the disciplinary hand of the unions there might have been “a general confrontation between the workers of a great many industries, and the government, supporting the employers.” In Lowell, Massachusetts, for example, according to an unpublished manuscript by Marc Miller (“The Irony of Victory: Lowell During World War II”), there were as many strikes in 1943 and 1944 as in 1937.\n",
      "\n",
      "Twelve U.S. navy fliers in the Hiroshima city jail were killed in the bombing, a fact that the U.S. government has never officially acknowledged, according to historian Martin Sherwin (A World Destroyed).\n",
      "\n",
      "Not as publicized as the Communist victories, but just as disturbing to the American government, was the upsurge all over the world of colonial peoples demanding independence.\n",
      "\n",
      "A government consultant and scientist, Herman Kahn, wrote a book, On Thermonuclear War, in which he explained that it was possible to have a nuclear war without total destruction of the world, that people should not be so frightened of it.\n",
      "\n",
      "Still, it was a dramatic decision—and the message went around the world in 1954 that the American government had outlawed segregation.\n",
      "\n",
      "By this time the Freedom Riders were in the news all over the world, and the government was anxious to prevent further violence.\n",
      "\n",
      "The CIA at one point in 1966 recommended a “bombing program of greater intensity,” according to the Pentagon Papers, directed against, in the CIA’s words, “the will of the regime as a target system.” Meanwhile, just across the border of Vietnam, in a neighboring country,  \fLaos, where a right-wing government installed by the CIA faced a rebellion, one of the most beautiful areas in the world, the Plain of Jars, was being destroyed by bombing.\n",
      "\n",
      "“The question necessarily arises, however, whether if a new threat to security should materialize in the future (as it inevitably will at some point), the government will possess the authority to command the resources, as well as the sacrifices, which are necessary to meet that threat.” Huntington saw the possible end of that quarter century when “the United States was the hegemonic power in a system of world order.” His conclusion was that there had developed “an excess of democracy,” and he suggested “desirable limits to the extension of political democracy.” Huntington was reporting all this to an organization that was very important to the future of the United States.\n",
      "\n",
      "In the journals they kept, I found the following comments: A male student: “Do you think anything good that has happened in the world had anything to do with government?\n",
      "\n",
      "Yet governments throughout the world, led by our own, spend over $600 billion a year on arms, while an estimated 1 billion of our world’s people live in poverty and 600 million are under- or unemployed.\n",
      "\n",
      "Cuba had imprisoned critics of the regime, but had no bloody record of suppression as did communist China or other governments in the world that received U.S. aid.\n",
      "\n",
      "More than a thousand organizations from 90 countries—representing labor unions, environmental groups, consumers, religious groups, farmers, indigenous people, women’s groups, and more—had signed a statement asking governments to stop the expansion of the World Trade Organization.\n",
      "\n",
      "We are hated because our government denies these things to people in Third World countries whose resources are coveted by our multinational corporations.\n",
      "\n",
      "), 88, 222–23, 245, 246 Bancroft, George, 90 banking and economy, 101, 130, 189, 206, 224, 238, 242, 254–58 passim, 277, 284, 287 Colonial era; 70, 90, 91–92, 93, 97 crises and depressions, 224, 225, 242–43, 260, 277–78, 323, 386–94 foreign investment capital, 427, 561 international regulation, 349, 414, 561 Banneker, Benjamin, 89 Barbados, 44 Barbot, John, 28 Barnet, Richard, 427 Barlett, Donald, 580 Barsamian, David, 624–25, 671 Baruch, Bernard, 363 Beard, Charles, 90–91, 98, 371 Beecher, Catharine, 116 Beecher, William, 605  \fBelcher, Andrew, 51 Bellamy, Edward, 264, 278 Bellush, Bernard, 392–93 Belmont, August, 246, 256 Benavidez, Roy, 578 Benin, 26 Benjamin, Judah, 195 Bennett, Gwendolyn, 445–46 Bennett, William, 629 Benston, Margaret, 506 Berger, Victor, 353 Berkeley, William, 41, 42, 44 Berkman, Alexander, 272, 277, 321, 372, 375 Bernstein, Barton, 392 Bernstein, Carl, 545 Berrigan, Daniel, 488–89, 602 Berrigan, Philip, 488, 601, 602 Berthoff, Rowland, 84 Beveridge, Albert, 299 Billings, Warren, 359 Bingham, Eula, 575 bin Laden, Osama, 678, 679 Blackett, P. M. S., 423 Black Hawk, 130–31 Black Panthers, 461, 463, 464, 542, 547, 555 blacks, 9 civil rights after Civil War, 198–210 passim Clinton and, 645 Colonial era, 57, 77, 80, 82, 88 Constitution, 14th Amendment, 202, 204, 260–61, 449, 526 Declaration of Independence, 72–73, 88 demonstrations and protests (1950s and 1960s), 443, 450–67, 500–01, 542, 547, 555, 667–68, 686 education, 89, 198, 199, 202, 208, 450, 465, 467 effects of Reagan administration, 581–82 farming and Populist movement, 284, 291–92 Ku Klux Klan, 203, 382, 432, 452 labor, 199, 203, 208, 209, 241, 274, 328, 337–38, 381, 404–05, 415, 464, 466, 467  \fMiami riot (1983), 609 military forces, 10, 77, 82, 88, 191, 192, 193, 195–96, 203, 317, 318–20; segregation, 404, 415, 419, 449–50 NAACP, 348–39, 382, 447, 464 New Deal, 404 poverty and, 662–63 racism and violence, 24, 203, 209, 210, 221, 315–20, 347, 348, 443, 444, 461, 462–63 transportation segregated, 450, 450–51, 453 unemployment, 570 view of Gulf War, 622 voting, 65, 88–89, 198, 199, 203, 207, 291, 450, 454–55, 456, 458, 459, 461, 465–66 welfare and, 578–79 women, 32, 103, 105–06, 184–85, 193, 202, 347, 504 World War II, 415, 419, 448 see also slavery/slave trade Blackwell, Elizabeth, 118–19 Bloom, Allan, 629 Bloomer, Amelia, 113, 119 Blumenthal, Michael, 561 Bolden, Dorothy, 509 Bond, Horace Mann, 206–07 Bond, Julian, 485, 621 Bonner, Raymond, 591 Bonus Army, 391, 462 Bosnia, 655, 660 Boston, 220–21, 467, 645 Colonial era, 36, 47, 49–53 passim, 57, 60, 61, 65–67, 69–70, 71, 75 Boston Massacre, 67, 69–70, 71 Boston Tea Party, 67, 69–70, 71, 109 Bourne, Randolph, 359 Bowdoin, James, 94 Braden, Anne, 614 Bradford, William, 15 Brandaon, Luis, 29–30 Brandeis, Louis, 256 Brandon, William, 533 Branfman, Fred, 481 Braverman, Harry, 324  \fBrecher, Jeremy, 399, 403, 417 Breeden, Bill, 587–88 Brennan, William, 574 Brewer, David J., 261 Breyer, Stephen, 645 Bridenbaugh, Carl, 47–48 Brooke, Edward, 553 Broun, Heywood, 339–40 Brown, Antoinette, 119 Brown, Harold, 566 Brown, H. Rap, 461 Brown, John, 171, 182 Brown, Robert E., 98 Brown, Ronald, 645 Brown, Sam, 566 Brown, William Garrott, 293 Brownell, Herbert, 434 Brownmiller, Susan, 510 Bruce, Robert, 246–47, 248, 251 Bryan, William Jennings, 294, 301, 362 Bryant, William Cullen, 179 Brzezinski, Zbigniew, 560, 561, 565, 566, 599–600 Bulgaria, 426, 592 Bundy, McGeorge, 474 Burbank, David, 250 Burgess, John, 200, 299 Burke, Edmund, 110 Bush, George, 574–75, 576, 580, 610, 611, 633, 643, 645, 661 Gulf War, 594–600, 616, 620–21, 625, 627, 653, 685 Panama invasion, 593–94, 685 Bush, George W., 675–77 “war on terrorism” and, 677–81 business and industry: 48, 49, 51, 52, 65, 84 factory and mill system, 10, 111, 115, 116–17, 216, 221, 228–31, 239, 241, 244, 253, 300, 324–27, 334–39 passim, 346, 349, 381, 380–86, 387, 397 foreign investment and markets, 297, 298, 301, 302–03, 313–14, 362, 438 government and politics, 219, 543, 547–49, 550, 650–51  \fhealth and safety conditions, 230, 239, 241, 242, 246, 254, 255, 256, 278, 325, 326, 327, 338–39, 346 insurance and compensation, 349, 352–53 legal and judicial protection, 239–40, 260–62 monopoly and merger, 219, 254–58 reforms, 259–60, 349–53 passim tariffs, 91, 101, 130, 141, 142, 189, 206, 238, 257 World War II, 417, 425 see also labor; specific fields Byrd, William, 35 Byrnes, James F., 422, 423 Caldicott, Dr. Helen, 603 Calhoun, John, 168 California: U.S. desire for and Mexican war, 149, 151, 153, 154, 163, 169, 181 Calley, William, 478–79, 667 Cambodia, 472, 483, 484, 491, 498, 545, 551–53 Camus, Albert, 10 Carmichael, Stokely, 454 Carnegie, Andrew (and Carnegie steel), 255, 257, 258, 260, 262, 276–77, 294, 314, 324 Carroll, Charles, 82–83 Carson, “Kit,” 529 Carter, Amy, 613 Carter, Jimmy, 565–66, 569–72, 575, 581, 601, 605, 611, 631, 633 “human rights” policy, 568 Iran hostage crisis, 573 Latin America policy, 590 military budget increase, 583 Panama Canal Treaty, 568 Carter, Landon, 33 Cass, Lewis, 131–32, 134 Catholic Church, 2, 29 conflicts and controversies, 221, 226, 265, 538 Vietnam protests, 488–91, 538 Catton, Bruce, 417 Central Intelligence Agency, 439, 543, 554, 555–56, 583–84, 593, 613–14 in Cuba, 440, 441, 554, 555 Vietnam and Laos, 474, 476, 478, 481, 483, 499 Watergate, 544, 547, 554  \fChafe, William, 343 Chafee, Zechariah, 366 Chamorro, Edgar, 585 Chancy, James, 456 Chavez, Cesar, 614, 615 Chechnya, 657 Cheney, Dick, 652 Chernobyl, 613 Cherokee Indians, 10, 54, 55, 126, 127, 128, 132, 133, 136–37, 139–41, 144, 146–48 Chiang Kai-shek, 427, 470 Chicago, 254, 272, 650 labor and socialist groups, 243, 244, 247, 268–73 passim, 278, 279–81 Chicanos, 495, 614, 615–16 Chickasaw Indians, 54, 126, 133, 134, 140, 144 children: Colonial era, 43, 44, 49, 55 Indians, 4, 67, 20 labor, 43, 44, 49, 221, 230–31, 266, 267, 324, 335, 346–47, 403 Children’s Defense Fund, 571, 610 Chile, 545, 548, 554, 568 China: civil war, 427, 431 Communism in, 427, 429 as foreign market and Open Door Policy, 297, 298, 300, 303, 313–14, 321, 410, 657 Indochina and World War II, 412, 424, 470 Japan, war with, 406, 410, 427 Korean war, 428 Chinese immigrants, 253, 254, 265, 266, 382, 648 Chisholm, Shirley, 511 Choctaw Indians, 54, 133, 134, 138–39, 140, 141, 144 Chomsky, Noam, 567, 593, 624–25 Christman, Henry, 211 Churchill, Winston, 17, 303, 412, 421, 426 Cisler, Lucinda, 510 civil rights/civil rights movement, 449 passim, 488, 518, 523, 614 after Civil War, 198–210 passim, 667–68 see also blacks; voting Civil Rights Act (1875), 198, 204 Civil War, 10, 171, 189–95 passim, 235–38  \fClay, Henry, 141, 145 Clean Air Act (1970), 576 Clear, Todd, 647 Cleveland, Grover, 256, 258, 259, 260, 279, 302–03 Clinton, George, 86 Clinton, Bill, 633, 643–65 Cloward, Richard, 402, 466 Coal Mine Health and Safety Act (1969), 575 Cochran, Thomas, 218, 219, 220, 323 Coin, William Harvey, 293 Colden, Cadwallader, 57 cold war, end of, 592–93 Coles, Robert 498 Collier, John, 21–22, 524 Colombia, 408 Columbus, Christopher 1–5 passim, 7–8, 9, 11, 17, 18, 25, 685 quincentennial, protests against, 625–28 Commons, John, 273 Communism/Communist Party (in U.S.), 385, 441 and blacks, 447–48 crusade against, 426, 428–37 passim, 441 and labor movement, 385–86, 394, 397, 402, 405, 428, 441, 447 unemployed councils, 394, 447 Workers Alliance, 394 World War II, 407, 420 Congress of Racial Equality (CORE), 453, 464 Congress of Industrial Organizations (CIO), 399, 401–02, 405, 417 Conkin, Paul, 403 Connery, William P., 384–85, 395 Conot, Robert, 459 Constitution, 9, 10, 46, 90–91, 98–101 passim, 633, 676 adoption of, 70, 86, 91, 96, 98–99 Bill of Rights, 99 1st Amendment 100 13th Amendment, 192, 198, 204 14th Amendment, 198, 204, 260–61, 449, 526 15th Amendment, 198, 449  \f16th Amendment, 349 17th Amendment, 349 19th Amendment, 384 22nd Amendment, 675 constitutions, state, 83, 110, 291 Continental Congress, 71, 81 contras, 585–87, 613 Conwell, Russell, 262 Cooke, Marvel, 404 Coolidge, Calvin, 387 Cooper, Richard, 590 Copeland, John, 186 Corbin, Margaret, 110 Cornbury, Lord, 48 Cornell, Ezra, 262 corporate executives, income of, 581 corporations, multinational, 568–69 Cortés, Hernando, 11–12, 14, 17, 18 Cott, Nancy, 111, 114, 115, 117 Cotton, John, 108 cotton, 89, 125, 129, 171, 219, 274, 283, 284, 285, 301, 301, 408, 459 Coulter, E. Merton, 237 Council for a Nuclear Weapons Freeze, 603 Cox, Archibald, 549 “Coxey’s Army,” 260, 294 Crafts, Thomas, 75 Crane Stephen, 237 Cranston, Alan, 546 Crawford, James, 454–55 Creek Indians, 54, 55, 126, 127–28, 129, 132, 134–35, 141–43 Creel, George, 364, 365, 369 Crevecoeur, Hector St. Jean, 53–54 crime, 637, 665 Crockett, Davy, 136 Croly, Herbert, 350–51 Cuba: Castro, Fidel, 439–41, 554, 634 Spain and, 3, 5–7, 301, 302, 303  \fSpanish-American war and independence of, 309–13, 318, 408, 439 U.S. and, 297, 299, 302–03, 439, 647, 657 Cullen, Countee, 444 Curti, Merle, 383 Czechoslovakia, 429, 592 Daly, Marcus, 289 Darrow, Clarence, 365 D’Aubuisson Roberto, 590 Davidson, Basil, 27 Davis, Angela, 542 Davis, Benjamin 448 Davis, Hugh, 30 Dawley, Alan, 232–33 Day, Luke, 92, 93 death penalty, 574, 645 Debs, Eugene, 278, 279, 281, 330, 339–41, 347–48, 367–68 Declaration of Independence, 70–75 passim, 558, 665, 674, 682 Degler, Carl, 85 Deloria, Vine, Jr., 525–26, 527 Denison, George, 539 Depew, Chauncey, 273 Diem, Ngo Dinh, 472, 473, 474–75 Dix, Dorothea, 121 Dole, Robert, 643 Dole, Sanford B., 299 Dole family, 300 Dominican Republic, 408, 592 Donnelly, Ignatius, 288–89 Dorr, Thomas, 214–16 Dorr’s Rebellion, 215–16 Dos Passos, John, 374, 391 Douglas, William O., 435 Douglass, Frederick, 157–58, 180–81, 182–83, 184, 185, 187, 188, 189, 209 Dreiser, Theodore, 322, 383 Dresden, bombing of, 421 Drew, Charles, 415 Drew, Elizabeth, 595  \fDrinan, Robert, 553 Du Bois, W. E. B., 23, 175, 185–86, 192, 193, 210, 328–29, 348–49, 363, 448, 686 Dukakis, Michael, 583, 611 Duke, James, 254, 262 Dunbar, Paul Laurence, 445 Dunmore, Lord, 82 Dylan, Bob, 537, 538 Earth Summit (1992), 577 Easley, Ralph, 352, 353 Eastern Europe, 591–92 East Germany, 591 Eastman, Crystal, 343 Eastman, Max, 370–71 East Timor, 567, 595, 655–56 Eaton, John, 133, 139 ecological crisis, 576 Edelman, Marian Wright, 571, 610 Edelman, Peter, 649 Edison, Thomas, 254 education, 9, 21, 111, 118, 556, 574, 651 blacks, 89, 198, 199, 202, 208, 450, 466, 467 colleges, 219, 262, 263 public schools and high schools, 263–64 women, 110, 115, 118, 123, 509 Ehrlichman, John, 543, 544 Eisenhower, Dwight, 391, 435, 439, 440, 473, 474, 475, 560, 583, 643, 661 Elders, Jocelyn, 645 election of 2000, 675–77 Elkins, Stanley, 33–34 Ellsberg, Daniel, 470, 487–88, 543, 544 El Mozote massacre, 591 El Salvador, 572, 589–91, 606–07, 608, 648 Emerson, Ralph Waldo, 146–47, 156, 186, 221 Engel, George, 271 Engerman, Stanley, 173 environmental movement, 575 Environmental Protection Agency (EPA), 576, 613  \fEthiopia: Italian invasion, 409, 410, 421 Ettor, Joseph, 331, 335, 336, 337 Evans, George Henry, 222 Evans, Rowland, 498 Everett, Edward, 146, 219 Evers, Medgar, 538 Fair Employment Practices Commission, 415 Fairfax, Lord, 84 “fairness doctrine,” 564 Farmer, James, 464 Farmers Alliance, 283–94 passim farming, 84, 197, 206 Depression (1930s), 392, 397 farmers’ movements (19th century), 264, 282–95 grain, 253, 261, 283, 286, 287, 301 mechanization of, 219, 253, 283 Shays’ Rebellion, 91–95, 98 tenants and rebellions (Colonial era and 18th century), 47, 62–65, 84, 85–86, 91–95, 211, 212–14 see also cotton; land; slavery; tobacco farm workers, 614, 615 Faulkner, Harold, 350 Faulkner, William, 283–84 Federal Bureau of Investigation (FBI), 433, 434, 462, 463–64, 489, 490, 534, 544, 554–55, 556, 645–46 Federalist Papers, 96–97 Federal Reserve System, 651 Feingold, Henry, 415 feminist movements: 19th century, 117, 119–24 passim, 184–85, 202 early 20th century, 342–46, 349 1960s and 1970s, 504–14 1980s and 1990s, 616 Fine, Sidney, 400 Firestone, Shulamith, 511, 513 Firestone company, 399 Fischer, Adolph, 271 Fiske, John, 82 Fite, Emerson, 233 Fitzgerald, F. Scott, 383  \fFlagler, H. M., 207 Fletcher, Benjamin, 48 Flexner, Eleanor, 115, 122, 384 Florida: acquisition of, 129, 685 election of 2000 and, 676–77 Seminole Indians, 127, 128, 129, 141, 143–46 Flynn, Elizabeth Gurley, 334, 336, 344, 347, 436 Fogel, Robert, 173 Foner, Eric, 80 Foner, Philip, 159, 223, 244, 303–04, 308, 309–10, 317, 328, 372, 431 Food Not Bombs, 617 Ford, Ford Madox, 374 Ford, Gerald, 544, 545, 546–47, 549, 550, 551, 552, 556 Ford, Henry, 324, 387 Ford Motor Company, 387, 401 foreign aid, 426–27, 429, 438 Foreman, Grant, 147–48 Forsberg, Randall, 603 Fortune, Thomas, 208–09 Foster, William Z., 381 France, 2, 9, 87, 80, 438 Indochina, 412, 429, 469–71, 472 Seven Years’ War, 53, 59, 60, 61, 87 slavery, 28 World War I, 359–60, 361 World War II, 409, 412, 417, 424 Franklin, Benjamin, 44, 80, 85, 91, 107 Franklin, George, 560 Franklin, John Hope, 172 Frelinghuysen, Theodore, 138 Fremont, John C., 189 French and Indian War (Seven Years’ War), 53, 59, 60, 61, 77, 87 Frick, Henry Clay, 260, 276, 277 Friedan, Betty, 505, 506 Friend, Isaac, 45 Fuentes, Carlos, 607 Fugitive Slave Act, 181, 186, 188  \fFuller, Margaret, 120 Fussell, Paul, 361 Gage, Nicholas, 572 Gage, Thomas, 65 Galbraith, John, 386 Garland, Hamlin, 282–83 Garner, Deborah Sampson, 110 Garner, Lloyd, 413, 414 Garrison, William Lloyd, 122, 187, 190 The Liberator, 157, 182, 184 Garvey, Marcus, 382 Gary, Elbert, 350 Gatewood, William, 318, 319 Gaylin, Willard, 516 gay movements, 616–17, 645 General Motors, 400 Genovese, Eugene, 175, 176, 177, 194 George, Henry, 264, 272, 273 Georgia, 82, 83 Indians, 52, 126, 127, 128, 133, 134–35, 136, 137, 139, 140–41, 146 German immigrants, 43, 46, 49, 160, 226, 265, 279 socialism, 244, 249, 268, 270, 340 Germany, 409 Spanish Civil War, 409, 421 World War I, 359–60, 361–62 World War II, 17, 407, 410, 411, 412–13, 415, 421, 424 Germany, East, 429 Gerry, Elbridge, 91 Gettleman, Marvin, 214 Giddings, Joshua, 154 Gilman, Charlotte Perkins, 342 Ginsburg, Ruth, 645 Giraud, Henri, 412 global warming, 577 Gold, Harry, 433–34 gold, 1, 2, 3, 4, 6, 11, 12, 18, 134, 139 Golden, John, 352  \fGoldman, Emma, 272, 277–78, 321, 345, 372, 375, 503 Gompers, Samuel, 306, 308, 328, 352, 365, 380, 381 Gonzalez, Henry, 587 Goodman, Andrew, 456 Goodwyn, Lawrence, 284–85, 286, 288, 289, 290–91, 292, 293 Goodyear company, 400 Gould, Jay, 254, 255, 258 Gorbachev, Mikhail, 591 Gore, Albert, 675–77 Grady, Henry, 207 Graham, Billy, 538 Grant, Ulysses, 199, 204, 242 Grantham, Thomas, 41 Great Britain, 2, 9, 10, 12, 42, 183, 425, 426, 470 King George’s War, 52 parliamentary government setup, 73, 74 private property, 16, 27, 42 Queen Anne’s War, 52 Seven Years’ War, 53, 59, 60, 61, 87 slavery, 28, 29 War of 1812, 127 World War I, 359–60, 361, 362 World War II, 17, 407, 410, 411, 413, 414, 417, 421, 424 see also American colonies; Revolutionary War Greece, 425–27, 429, 551 Greek immigrants, 265 Greeley, Horace, 159, 190–91 Green, James, 340 Greene, Jack, 59 Greene, Nathanael, 83 Greenglass, David, 433 Greenspan, Alan, 651 Greider, William, 580, 581 Grenada, 588–89, 685 Grenville, Richard, 12 Grimké, Angelina, 120, 121 Grimké, Sarah, 120–21  \fGrover, William, 575–76 Groves, Leslie, 423 Guam, 312, 408 Guatemala, 439, 586, 648 Guinier, Lani, 645 Gulf War, 594–600, 618–25, 652, 653–54 Gutman, Herbert, 173, 178, 229 Gwertzman, Bernard, 588–89 Haig, Alexander, 546, 605 Haig, Douglas, 360–61 Haiti, 303, 408 Haldeman, Robert, 543 Hall, Bolton, 307, 308 Haligren, Mauritz, 389–90 Hamby, Alonzo, 428 Hamer, Fannie Lou, 505 Hamilton, Alexander, 77, 95–96, 97, 98, 101, 219, 417 Hamilton, Richard F., 492 Hammond, James, 174 Hampton, Fred, 463, 555 Hancock, John, 85 Haney, Evan, 531 Hanna, Mar, 351 Harburg, Yip, 390–91 Harding, Warren, 368, 384 Harlan, Jobe, 204, 205 Harper, Frances Ellen Watkins, 202 Harriman, Averell, 414 Harriman, E. H., 351 Harris, Joel Chandler, 208 Harris, Patricia, 566 Harrison, Benjamin, 259, 260 Harrison, William Henry, 126, 132 Harte, Bret, 265 Havel, Vaclav, 592 Hawaii, interest in and annexation of, 297, 299, 300, 302, 306, 312, 408 Hay, John, 309  \fHayes, Rutherford, 205, 246, 258 Hays, Samuel, 353 Haymarket affair, 272, 321 Haywood, Big Bill, 330, 335, 336, 337–38, 340, 341, 373 Headley, Joel Tyler, 236 health and safety, 111, 117, 118–19, 662, 663 in business and industry, 230, 239, 241, 242, 246, 254, 255, 256, 278, 325, 326, 327, 338–39, 346 disease and epidemics, 40, 218, 221, 240 Indians, 16, 87 insurance and compensation, 349, 352–53, 651, 664 and nuclear development, 441 railroads, 245–46, 255, 256, 278 health care coverage, 611, 612 health degradation, 638 Hearst, William Randolph, 294, 390 Heller, Joseph, 418 Helms, Richard, 548 Hemingway, Ernest, 374 Henretta, James, 57 Henry, Patrick, 68–69, 126 Herndon, Angelo, 447 Hersh, Seymour, 479, 573 Hertsgaard, Mark, 591, 594 Hiatt, Howard, 603 Hill, Anita, 574 Hill, Christopher, 74 Hill, James J., 351 Hill, Joe, 334–35 Hiroshima, bombing of, 9, 17, 422 Hispaniola, 3, 4, 7, 32, 685 Hitchcock, Ethan Allen, 149, 150, 151, 166 Hitler, Adolf 407, 409, 410, 415 Ho Chi Minh, 469, 470, 472 Hoerder, Dirk, 66, 67 Hoffman, Abbie, 613 Hoffman, Ronald, 82, 83 Hofstadter, Richard, 57, 187, 189, 192, 351, 361, 362, 563  \fHolmes, Oliver Wendell, 366, 368 Homestead strike, 276–77, 294, 321 Honduras, 585 Hoover, Herbert, 387, 392, 563 Hopi Indians, 19, 529–30 Hopkins, Harry, 414 Horwitz, Morton, 239, 239–40 House of Representatives, election of, 96 Houston, Sam, 136 Howard, Michael, 598 Hudson, Hosea, 398–99, 447 Huggins, Nathan, 445 Hughes, Langston, 404–05, 443, 445, 467 Hull, Cordell, 409 Humphrey, Hubert 431, 456, 487 Humphrey, R. M., 290 Hungary, 592 Hunt, E. Howard, 543 Hunt, Harriot, 118 Huntington, Samuel, 558–60, 566 Hussein, Saddam, 594, 599, 622–23, 653, 666–67 Hutchinson, Anne, 108–09 Hutchinson, Thomas, 52–53, 57, 61 Huxley, Aldous, 460 Ickes, Harold 413 Illich, Ivan, 539 immigration, 49, 125, 216, 221, 225, 227–28, 230, 238, 244, 253, 254, 265–67, 306, 324, 647–49 quotas set, 382 see also individual ethnic groups imperialism, 314–15, 569 indentured servants 42–47, 23, 25, 32, 37, 42–47 Indians, Central and South American, 3–7 passim, 11–12, 18, 53 see also Arawak Indians Indians, North American: anti-Columbus Protests, 625–28 Alcatraz, occupation of, 528–29 Bacon’s Rebellion, 37, 39, 45, 54, 55, 59 civilization and culture, 17–22, 135–36, 137, 531–32  \fColonial era, 12–17 passim, 24, 25, 29, 39, 41, 53–54, 57, 58, 59, 72, 86–87, 87–88 death from disease introduced by whites, 16, 87 Declaration of Independence and Constitution, 65, 72, 86, 96 French and Indian War, 53, 59, 60, 61, 77, 87 Indian Removal and warfare, 126–27, 295, 524, 529–30 protests by (20th century), 523–37 on reservations, 17, 524 Revolutionary War, 77, 80, 87, 125, 126 suffrage denied, 65, 96 treaties with, 128–34 passim, 136, 138, 141–42, 144–45, 146, 526, 529 see also individual tribes Indochina, 412, 429, 430, 469–72 see also Vietnam/Vietnam war Indonesia, 429, 567, 595, 655–56 Industrial Workers of the World (IWW), 330–38, 341, 344, 347, 350, 354, 359, 369, 370, 372–73, 377–79, 382 International Monetary Fund, 414, 440, 658, 674 International Telephone and Telegraph (ITT), 543, 548, 554 Iran, 438, 567, 586, 595, 599, 604 Iran/contra affair, 586–87 Iraq, 594–600, 647, 652, 653–54, 681, 685 Irish immigrants, 46, 49, 100, 159, 160, 177, 225, 226–27, 230, 235, 243, 254, 255, 265, 382 Iriye, Akira, 410 Iroquois, League of the, 19–20, 21, 86, 130 see also Mohawk Indians Isaac, Rhys, 68 Israel, 586, 595, 596, 681 Italian immigrants, 226, 244, 265, 266, 349, 382 Italy, 438 Ethiopia invaded by, 409, 410, 421 Spanish Civil War, 409, 421 World War II, 411, 412, 423–24 Jackson, Andrew, 126–27, 187, 216, 217 Indian policy, 10, 127–30, 133, 135, 136, 137, 140, 141, 216 Jackson, George, 519–20 Jackson, Maynard, 466 Jackson, Aunt Molly, 393 James, Henry, 323, 360 James, William, 300, 314  \fJamestown, 12, 23, 24, 26, 30, 40, 104 Japan, 297, 471, 558 China, war with, 406, 410, 427 and Indochina, 469, 470 “opening of,” 299, 408, 410, 411 World War II, 9, 17, 410–11, 413, 421–24, 469, 470 Japanese-Americans, internment of, 416 Jay, John, 96 Jefferson, Thomas, 83, 89, 95, 97, 110, 117, 126, 128 Declaration of Independence, 71, 72 Jennings, Francis, 14–15, 16, 86, 87, 88 Jewish immigrants, 265, 268, 340, 349, 382 Jews: Germany and World War II, 409, 415 Palestine, 414 Spain, 2 John Paul 11, Pope, 576 Johnson, Andrew, 197, 199 Johnson, Lyndon, 431, 509, 526, 601 blacks and civil rights, 456, 456, 459, 463, 464 Vietnam, 411, 475, 476, 481, 483–84, 500–01, 685 Johnson, U. Alexis, 475 Jones, James, 418 Jones, Mother Mary, 330, 338, 346, 354 Jordan, June, 600, 638 Josephson, Matthew, 259, 260 Julien, Claude, 545 Kahn, Herman, 441 Kaufman, Irving, 434 Kay, Marvin L. Michael, 63, 64–65 Keller, Helen, 341, 345–46, 503 Kemble, Fanny, 176–77 Kennan, George, 583, 592 Kennedy, Edward, 594 Kennedy, John F., 431–32, 437, 438, 441, 442, 526, 560 blacks and civil rights, 453, 456, 457, 458 Southeast Asia and Vietnam, 473, 474, 475–76 Kennedy, Robert, 454, 456  \fKenya, 659, 678, 682 Kerry, John, 594 Khadafi, Muarnmar, 591 King, Martin Luther, Jr., 451–52, 461, 462, 485, 644 “King Philips War,” 16, 40 Kissinger, Henry, 9, 441, 484, 491, 498, 544, 548, 551, 552, 553–54, 556, 569 Kistiakowsky, George, 604 Kitt, Eartha, 487 Kleindienst, Richard, 544, 547, 548 Knights of Labor, 251, 267–68, 269, 273, 274, 279, 285, 289, 307 Knox, Henry, 81, 95, 126 Kolchin, Peter, 199 Kolko, Gabriel, 350, 413 Koning, Hans, 17–18 Korea/Korean war, 428, 429, 647, 652, 685 Kornbluh, Joyce, 332 Kovic, Ron, 496–97, 619, 621 Kozol, Jonathan, 539 Kristol, Irving, 435 Kropotkin, Peter, 271 Krushchev, Nikita, 592 Ku Klux Klan, 203, 382, 432, 452, 636 Kurds, 656 Kuwait, 594–96, 598, 622, 627, 653 labor: blacks, 199, 203, 208, 209, 241, 274, 328, 337–38, 381, 404–05, 415, 466, 467 children, 43, 44, 49, 221, 230–31, 266, 267, 324, 335, 346–47, 403 Colonial era, 23, 25, 27–28, 29, 30, 32, 37, 42–47, 50, 53, 55, 56, 57, 62, 80, 104–05 Constitution, support for, 99 convicts, 209, 275, 292 Depression and unemployment, 386–95 passim factories and mills, 10, 111, 115, 116–17, 216, 221, 228–31, 239, 241, 243–44, 253, 300, 324–27, 334–39 passim, 346, 349, 381, 386, 387, 397 Fair Employment Practices Commission, 415 health and safety in working conditions, 230, 239, 241, 242, 246, 254, 255, 256, 278, 325, 326, 327, 338– 39, 346 insurance and compensation, 349, 352–53 ILGWU, 326  \fimmigrants, 49, 125, 216, 221, 225, 227–28, 230, 238, 244, 253, 254, 265–67, 307, 324 see also individual ethnic groups Independent Labor party, 272 Indians, 25, 29, 53 Knights of Labor, 251, 267–68, 269, 273, 274, 279, 285, 289, 306 minimum-wage (1938), 403 National Labor Relations Board, 401, 402, 574 1980s and 1990s, 617 organization (unions, strikes): 19th century, 218–19, 221, 222, 223, 225–51 passim, 260, 265, 267–83, 293, 310; 20th century, 324, 326, 330, 334–39 passim, 346–47, 354, 377–82, 386, 392, 397, 399–402 passim, 406, 407, 415, 416, 417–18, 575, 578, 668–74 socialism and, 244–45, 249, 268–73, 278, 281, 282, 307–08, 336, 339–40, 382, 385, 406, 547 Spanish American war and, 317 Wagner Act, 395, 401 women, 10, 32, 43, 44, 103, 104–05, 110, 111, 114–15, 123, 228–31, 234–35, 240–41, 253, 257, 267–68, 324– 27 passim, 336, 338–39, 347, 405–06, 504, 506–11 passim Workingmen’s party, 244–45, 248–49 see also American Federation of Labor; Congress of Industrial Organizations; farming; Industrial Workers of the World; slavery Lafeber, Walter, 301, 304 La Follette, Robert, 353 LaGuardia, Fiorello, 384, 385, 388, 684 LaMonte, Robert, 354 Land, Aubrey, 57 land: Bacon’s Rebellion, 37, 39–42, 45, 54, 55, 59 blacks and post-Civil War problems, 197–98, 199 “eminent domain” favoring business, 239 Homestead Acts, 206, 238, 282 Indians, 13, 20, 86–88, 128 Indian Removal and treaties, 126–28, 295, 526, 529 private property, Colonial era, 13, 17, 47, 48, 49, 54, 84, 85; in Europe, 16, 27, 74; law’s regard for, 260– 62; as qualification for voting, 49, 65, 83, 96, 214–16, 291; after Revolutionary War, 84, 85, 86–87, 99, 126; tenants and rebellions, 47, 62–65, 84, 85–86, 91–95, 98, 211, 212–14 Proclamation of 1763, 59, 71, 87 railroads acquisition of, 220, 238, 239, 283 territorial expansion, 9, 87–88, 111, 124, 685: Florida, 129; Louisiana Purchase, 126, 149;  \fMexico/Mexican war, 10, 149–69 passim, 181, 297, 408, 411, 492; overseas, 297–300; see also SpanishAmerican war see also farming Laos, 472, 473, 481–83, 484, 556 las Casas, Bartolomé de, 5–7 Latin America, 53, 299, 408 Alliance for Progress, 438 Good Neighbor Policy, 439 Monroe Doctrine, 297, 408 Organization of American States, 440 slavery, 25, 32, 173 see also Indians, Central and South American Latinos, 615–16 Lattimore, Owen, 432, 436 Lease, Mary Ellen, 288 Lebanon, 439, 586, 595 Lee, Richard, 42 Lee, Richard Henry, 81 Lee, Robert E., 185, 192, 195 Lehman, John, 597 Lehrmann, Leonard, 628 Leisler, Benjamin, 48 Lekachman, Robert, 571 Lemon, James T., 50 Lenin, V. I., 363 Leontief, Wassily, 577 lesbianism, 511 LeSeuer, Meridel, 406 Lester, Julius, 459–60 Levine, Lawrence, 179 Levy, Howard, 493 Levy, Leonard, 100 Lewinsky, Monica, 659 Lewis, John, 457 Lewis, John L., 399, 401 Lewis, Mollie, 405 Lewis, Sinclair, 383–84  \fLiddy, G. Gordon, 543 Lincoln, Abraham, 130, 153–54, 238, 631 slavery and Civil War, 171, 187–92 passim, 194, 197, 233, 410 Lincoln, Benjamin, 94, 95 Lingg, Louis, 271 Link, Arthur, 364 Lloyd, Henry Demarest, 293, 294–95 Locke, John, 47, 73–74 Lockridge, Kenneth, 50 Lodge, Henry Cabot, 158–59, 299, 300, 301, 305, 351 Lodge, Henry Cabot, 11, 366, 444, 474–75, 499 Logan, Rayford, 347 Loguen, J. W., 181–82 London, Jack, 322, 365 Louisiana Purchase, 126, 149, 685 Lowell, James Russell, 155 Lowell, Robert, 487 Lowell (Mass.\n",
      "\n",
      "Weak governments such as those in France and Germany immediately after the First World War were forced to please the electorate by public spending, but were unable to raise sufficient revenues from taxes.\n",
      "\n",
      "During the First World War, the gold standard was suspended, and government expenditure was financed by expanding the monetary supply by issuing bonds and in the extreme case by printing money.\n",
      "\n",
      "Governments around the world looked back on the pre-war years as a golden age, and prioritized a return to gold.\n",
      "\n",
      "After thirty years of centre-right coalitions interrupted by shorter spells of centre-left government since the 1980s, the public sector share of GDP remains among the highest, if not the highest, in the world.\n",
      "\n",
      "Whilst men were now expecting that Edward V1 would alrive a t manhood, and take the government completely into his own hands, and conduct it in thc sense he had hitherto foreshadowed-not merely carrying out the Reformation thoroughly a t home, but assuming the leadership of the Protestant world, symptoms appeared in him of the malady to which his half-brother Richmond had succumbed a t an carly age.\n",
      "\n",
      "Mary did not however on this account vanish from the stage of the world: rather she obtained an exceedingly important position by her presence in England, where one party acknowledged her immediate claim to the throne, the other a t least her claim to the succession ; and hence arose not merely inconveniences but very serious dangers for the English government.\n",
      "\n",
      "When she called the Venetians to aid-among other things she wished also to obtain a loan from the government-she put them in mind how much her resistance to the Spanish monarchy had benefited the European commonwealth : hence it was that Spain had been prevented from carrying out her tyrannical views throughout the world, in the Netherlands and in Germany, in France and Italy; the Republic, which loved freedom, would recognise this.\n",
      "\n",
      "This was indeed a different strife from the battle between Catholicism and Protestantism, which filled the rest of the world: but they had points of contact with one another, inasmuch as the reform of doctrine had almost everywhere put an end to episcopal government.\n",
      "\n",
      "King James did not possess this ardour ; for he could not descend from the world of studies and general views in which he lived, to take a searching interest in the business of the government or of justice.\n",
      "\n",
      "We’re the first large batch of settlers the British government has ever sent to the New World not that the trading companies haven’t done well in the colonies south of us.\n",
      "\n",
      "To-day, Trans-Canada  Air Lines  —owned  and run by the government of Canada  has a coast-to-coast passenger plane service which  and most modern  in the  is  the finest  world.\n",
      "\n",
      "matched target sentence = 32\n"
     ]
    }
   ],
   "source": [
    "# Specify the target keywords\n",
    "keywords = [\"world\", \"government\"]\n",
    "# Find and print sentences that contain keywords, ignoring uppercase/lower case\n",
    "target_sentences = [sentence for sentence in sentences if all(keyword.lower() in sentence.lower() for keyword in keywords)]\n",
    "for sentence in target_sentences:\n",
    "    print(sentence)\n",
    "    print()\n",
    "print(f\"matched target sentence = {len(target_sentences)}\")"
   ]
  },
  {
   "cell_type": "code",
   "execution_count": 22,
   "metadata": {},
   "outputs": [
    {
     "name": "stdout",
     "output_type": "stream",
     "text": [
      "keywords[0] = hello   keywords[1] = world\n",
      "matched sentence number = 5\n",
      "Mean Distance: 1.6\n",
      "Variance: 0.64\n",
      "Standard Deviation = 0.8\n",
      "****************\n",
      "\n",
      "mean = 1.6\n",
      "var = 0.64\n"
     ]
    }
   ],
   "source": [
    "def calculate_keyword_distances(sentences, keywords):\n",
    "\n",
    "    # Convert the keyword to lowercase\n",
    "    keywords = [keyword.lower() for keyword in keywords]\n",
    "    \n",
    "    # Find thoses sentences that contain keywords, ignoring case\n",
    "    target_sentences = [sentence for sentence in sentences if all(keyword in sentence.lower() for keyword in keywords)]\n",
    "    \n",
    "    # define a list of results to store the distances\n",
    "    keyword_distances = []\n",
    "\n",
    "    # Find and print sentences that contain keywords, ignoring case, and calculate the abs distance between keywords\n",
    "    for sentence in target_sentences:\n",
    "        # separate words in sentences, and get the index for each word\n",
    "        words = word_tokenize(sentence.lower())\n",
    "\n",
    "        try:\n",
    "            # find the index for keyword1, find index for keyword2\n",
    "            keyword1_indices = [i for i, word in enumerate(words) if word == keywords[0]]\n",
    "            keyword2_indices = [i for i, word in enumerate(words) if word == keywords[1]]\n",
    "\n",
    "            # get the distance between keyword1 and keyword 2 using index\n",
    "            distances = [abs(i - j) for i in keyword1_indices for j in keyword2_indices]\n",
    "            min_distance = min(distances)\n",
    "\n",
    "            # store extracted information in the keyword_distance Structure\n",
    "            keyword_distances.append({\n",
    "                \"sentence\": sentence,\n",
    "                keywords[0] + \"_indices\": keyword1_indices,\n",
    "                keywords[1] + \"_indices\": keyword2_indices,\n",
    "                \"distance\": min_distance\n",
    "            })\n",
    "        except ValueError:\n",
    "            # If there is no two keywords matched in the sentence, skip this sentence\n",
    "            continue\n",
    "\n",
    "    # extract all distances from those sentences contains keyword1 and keyword2\n",
    "    distances = [item[\"distance\"] for item in keyword_distances]\n",
    "    size_of_matched_sentence = len(keyword_distances)\n",
    "    # use numpy to find mean and varaince and standard deviation\n",
    "    mean_distance = np.mean(distances)\n",
    "    variance = np.var(distances)\n",
    "    standard_deviation = np.std(distances)\n",
    "    # Display the result\n",
    "    print(f\"keywords[0] = {keywords[0]}   keywords[1] = {keywords[1]}\")\n",
    "    print(f\"matched sentence number = {size_of_matched_sentence}\")\n",
    "    print(\"Mean Distance:\", mean_distance)\n",
    "    print(\"Variance:\", variance)\n",
    "    print(f\"Standard Deviation = {standard_deviation}\")\n",
    "    print(\"****************\")\n",
    "    print()\n",
    "\n",
    "# A Test Sentence\n",
    "test_sentences = [\n",
    "    \"Hello world! This is a test. The world is beautiful.\",\n",
    "    \"Hello again, world. Beautiful world, isn't it? World peace is important.\",\n",
    "    \"Hello this is Hello World in the environment of World\",\n",
    "    \"Hello 2 3 4 5 World Hello\",\n",
    "    \"United States Hello States Hello in the big World with Hello 2 WoRld\"\n",
    "]\n",
    "keywords = [\"Hello\", \"World\"]\n",
    "\n",
    "calculate_keyword_distances(test_sentences, keywords)\n",
    "dis = [1,3,1,1,2]\n",
    "print(f\"mean = {np.mean(dis)}\")\n",
    "print(f\"var = {np.var(dis)}\")"
   ]
  },
  {
   "cell_type": "code",
   "execution_count": 23,
   "metadata": {},
   "outputs": [
    {
     "name": "stdout",
     "output_type": "stream",
     "text": [
      "keywords[0] = world   keywords[1] = war\n",
      "matched sentence number = 166\n",
      "Mean Distance: 4.054216867469879\n",
      "Variance: 70.40067498911309\n",
      "Standard Deviation = 8.390511008819015\n",
      "****************\n",
      "\n",
      "keywords[0] = world   keywords[1] = power\n",
      "matched sentence number = 30\n",
      "Mean Distance: 14.766666666666667\n",
      "Variance: 188.11222222222221\n",
      "Standard Deviation = 13.715400913652587\n",
      "****************\n",
      "\n",
      "keywords[0] = world   keywords[1] = government\n",
      "matched sentence number = 24\n",
      "Mean Distance: 19.291666666666668\n",
      "Variance: 202.20659722222226\n",
      "Standard Deviation = 14.219936611047965\n",
      "****************\n",
      "\n",
      "keywords[0] = world   keywords[1] = organization\n",
      "matched sentence number = 15\n",
      "Mean Distance: 28.666666666666668\n",
      "Variance: 2767.288888888889\n",
      "Standard Deviation = 52.60502722068385\n",
      "****************\n",
      "\n",
      "keywords[0] = world   keywords[1] = trade\n",
      "matched sentence number = 58\n",
      "Mean Distance: 20.413793103448278\n",
      "Variance: 3965.3804994054703\n",
      "Standard Deviation = 62.971267252656354\n",
      "****************\n",
      "\n",
      "keywords[0] = world   keywords[1] = people\n",
      "matched sentence number = 43\n",
      "Mean Distance: 24.86046511627907\n",
      "Variance: 4056.5386695511083\n",
      "Standard Deviation = 63.690962228177305\n",
      "****************\n",
      "\n",
      "keywords[0] = world   keywords[1] = economy\n",
      "matched sentence number = 32\n",
      "Mean Distance: 26.0\n",
      "Variance: 9858.3125\n",
      "Standard Deviation = 99.28903514487388\n",
      "****************\n",
      "\n"
     ]
    }
   ],
   "source": [
    "calculate_keyword_distances(sentences, [\"world\", \"war\"]) \n",
    "calculate_keyword_distances(sentences, [\"world\", \"power\"])\n",
    "calculate_keyword_distances(sentences, [\"world\", \"government\"])\n",
    "calculate_keyword_distances(sentences,[\"world\",\"organization\"])\n",
    "calculate_keyword_distances(sentences, [\"world\", \"trade\"])\n",
    "calculate_keyword_distances(sentences, [\"world\", \"people\"])\n",
    "calculate_keyword_distances(sentences, [\"world\", \"economy\"])"
   ]
  }
 ],
 "metadata": {
  "kernelspec": {
   "display_name": "base",
   "language": "python",
   "name": "python3"
  },
  "language_info": {
   "codemirror_mode": {
    "name": "ipython",
    "version": 3
   },
   "file_extension": ".py",
   "mimetype": "text/x-python",
   "name": "python",
   "nbconvert_exporter": "python",
   "pygments_lexer": "ipython3",
   "version": "3.11.7"
  }
 },
 "nbformat": 4,
 "nbformat_minor": 2
}
