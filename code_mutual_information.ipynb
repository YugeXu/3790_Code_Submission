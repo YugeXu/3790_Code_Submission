{
 "cells": [
  {
   "cell_type": "markdown",
   "metadata": {},
   "source": [
    "\n",
    "## Math 3790 W01\n",
    "## Yuge Xu 1194170\n",
    "## NLP method: Mutual Information Analysis"
   ]
  },
  {
   "cell_type": "code",
   "execution_count": 1,
   "metadata": {},
   "outputs": [],
   "source": [
    "import nltk\n",
    "from nltk.tokenize import word_tokenize, sent_tokenize\n",
    "from nltk.probability import FreqDist\n",
    "from nltk import bigrams\n",
    "import pandas as pd\n",
    "import numpy as np\n",
    "from nltk import pos_tag\n",
    "from nltk.corpus import stopwords\n",
    "from nltk.tokenize import word_tokenize\n",
    "import math\n"
   ]
  },
  {
   "cell_type": "code",
   "execution_count": 2,
   "metadata": {},
   "outputs": [
    {
     "name": "stdout",
     "output_type": "stream",
     "text": [
      "len(sentences) = 37715\n",
      "len(words) = 755386\n"
     ]
    }
   ],
   "source": [
    "# read in txt files\n",
    "with open(\"Corpus_Country_History.txt\", \"r\", encoding=\"utf-8\") as file:\n",
    "    text = file.read()\n",
    "# If a sentence has a line inside it, we need to clear the line feed in this way\n",
    "text = text.replace('\\n', ' ')\n",
    "# split words\n",
    "words = word_tokenize(text)\n",
    "# split punctuations\n",
    "words = [word for word in words if word.isalpha()]\n",
    "# split sentences\n",
    "sentences = sent_tokenize(text)\n",
    "print(f\"len(sentences) = {len(sentences)}\")\n",
    "print(f\"len(words) = {len(words)}\")"
   ]
  },
  {
   "cell_type": "markdown",
   "metadata": {},
   "source": [
    "## Count the number of target word in corpus"
   ]
  },
  {
   "cell_type": "code",
   "execution_count": 3,
   "metadata": {},
   "outputs": [
    {
     "name": "stdout",
     "output_type": "stream",
     "text": [
      "The word 'world' appears 915 times in the text.\n",
      "The word 'bank' appears 144 times in the text.\n"
     ]
    }
   ],
   "source": [
    "#Count the number of times a word appears in the text (case ignored).\n",
    "def count_word_occurrences(sentences, word_to_count):\n",
    "    # Converts the target word to lowercase\n",
    "    word_to_count_lower = word_to_count.lower()\n",
    "    count = 0\n",
    "    for sentence in sentences:\n",
    "        words = [word.lower() for word in word_tokenize(sentence) if word.isalpha()]\n",
    "    # Count the number of times the target word appears\n",
    "        count += words.count(word_to_count_lower)\n",
    "    return count\n",
    "w1 = \"world\"\n",
    "# Call method to count the number of times the target word appears (case ignored)\n",
    "w1_count = count_word_occurrences(sentences, w1)\n",
    "print(f\"The word '{w1}' appears {w1_count} times in the text.\")\n",
    "w2 = \"bank\"\n",
    "w2_count = count_word_occurrences(sentences, w2)\n",
    "print(f\"The word '{w2}' appears {w2_count} times in the text.\")\n"
   ]
  },
  {
   "cell_type": "markdown",
   "metadata": {},
   "source": [
    "## Count the number of target bigram"
   ]
  },
  {
   "cell_type": "code",
   "execution_count": 5,
   "metadata": {},
   "outputs": [
    {
     "name": "stdout",
     "output_type": "stream",
     "text": [
      "number of bigrams in corpus: N = 755385\n",
      "The bigram '('world', 'bank')' appears 9 times in the bigram list.\n",
      "mutual information value for world and bank = 5.689224677121235\n"
     ]
    }
   ],
   "source": [
    "bigram_list = list(bigrams(words))\n",
    "N = len(bigram_list)\n",
    "print(f\"number of bigrams in corpus: N = {len(bigram_list)}\")\n",
    "def find_bigram(bigram_list, target_bigram):\n",
    "    count = 0\n",
    "   # Converts all the words in the target binary to lowercase\n",
    "    target_bigram_lower = tuple(word.lower() for word in target_bigram)\n",
    "    for bigram in bigram_list:\n",
    "        bigram_lower = tuple(word.lower() for word in bigram)\n",
    "        if bigram_lower == target_bigram_lower:\n",
    "            count += 1\n",
    "    return count\n",
    "target_bigram = (w1, w2)\n",
    "w1_w2_count = find_bigram(bigram_list, target_bigram)\n",
    "print(f\"The bigram '{target_bigram}' appears {w1_w2_count} times in the bigram list.\")\n",
    "p_word1 = w1_count/N\n",
    "p_word2 = w2_count/N\n",
    "p_w1_w2 = w1_w2_count/N\n",
    "mutual_information = math.log2((p_w1_w2)/(p_word1*p_word2))\n",
    "print(f\"mutual information value for {w1} and {w2} = {mutual_information}\")"
   ]
  }
 ],
 "metadata": {
  "kernelspec": {
   "display_name": "base",
   "language": "python",
   "name": "python3"
  },
  "language_info": {
   "codemirror_mode": {
    "name": "ipython",
    "version": 3
   },
   "file_extension": ".py",
   "mimetype": "text/x-python",
   "name": "python",
   "nbconvert_exporter": "python",
   "pygments_lexer": "ipython3",
   "version": "3.11.7"
  }
 },
 "nbformat": 4,
 "nbformat_minor": 2
}
